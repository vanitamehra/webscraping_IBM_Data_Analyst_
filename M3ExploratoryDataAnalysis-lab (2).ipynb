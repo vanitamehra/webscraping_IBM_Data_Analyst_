{
  "metadata": {
    "kernelspec": {
      "name": "python",
      "display_name": "Python (Pyodide)",
      "language": "python"
    },
    "language_info": {
      "codemirror_mode": {
        "name": "python",
        "version": 3
      },
      "file_extension": ".py",
      "mimetype": "text/x-python",
      "name": "python",
      "nbconvert_exporter": "python",
      "pygments_lexer": "ipython3",
      "version": "3.8"
    },
    "prev_pub_hash": "ade92979dd70141c119d5b4bacc0df03967cedc29c4b7d26b1149404340075d2"
  },
  "nbformat_minor": 4,
  "nbformat": 4,
  "cells": [
    {
      "cell_type": "markdown",
      "source": "<p style=\"text-align:center\">\n    <a href=\"https://skills.network\" target=\"_blank\">\n    <img src=\"https://cf-courses-data.s3.us.cloud-object-storage.appdomain.cloud/assets/logos/SN_web_lightmode.png\" width=\"200\" alt=\"Skills Network Logo\">\n    </a>\n</p>\n",
      "metadata": {}
    },
    {
      "cell_type": "markdown",
      "source": "# **Exploratory Data Analysis Lab**\n",
      "metadata": {}
    },
    {
      "cell_type": "markdown",
      "source": "Estimated time needed: **30** minutes\n",
      "metadata": {}
    },
    {
      "cell_type": "markdown",
      "source": "In this module you get to work with the cleaned dataset from the previous module.\n\nIn this assignment you will perform the task of exploratory data analysis.\nYou will find out the distribution of data, presence of outliers and also determine the correlation between different columns in the dataset.\n",
      "metadata": {}
    },
    {
      "cell_type": "markdown",
      "source": "## Objectives\n",
      "metadata": {}
    },
    {
      "cell_type": "markdown",
      "source": "In this lab you will perform the following:\n",
      "metadata": {}
    },
    {
      "cell_type": "markdown",
      "source": "-   Identify the distribution of data in the dataset.\n\n-   Identify outliers in the dataset.\n\n-   Remove outliers from the dataset.\n\n-   Identify correlation between features in the dataset.\n",
      "metadata": {}
    },
    {
      "cell_type": "markdown",
      "source": "* * *\n",
      "metadata": {}
    },
    {
      "cell_type": "markdown",
      "source": "## Hands on Lab\n",
      "metadata": {}
    },
    {
      "cell_type": "markdown",
      "source": "Import the pandas module.\n",
      "metadata": {}
    },
    {
      "cell_type": "code",
      "source": "from matplotlib import pyplot as plt",
      "metadata": {
        "trusted": true
      },
      "outputs": [],
      "execution_count": 2
    },
    {
      "cell_type": "code",
      "source": "!pip install seaborn",
      "metadata": {
        "trusted": true
      },
      "outputs": [
        {
          "ename": "<class 'OSError'>",
          "evalue": "Not available",
          "traceback": [
            "\u001b[0;31m---------------------------------------------------------------------------\u001b[0m",
            "\u001b[0;31mOSError\u001b[0m                                   Traceback (most recent call last)",
            "Cell \u001b[0;32mIn[3], line 1\u001b[0m\n\u001b[0;32m----> 1\u001b[0m \u001b[43mget_ipython\u001b[49m\u001b[43m(\u001b[49m\u001b[43m)\u001b[49m\u001b[38;5;241;43m.\u001b[39;49m\u001b[43msystem\u001b[49m\u001b[43m(\u001b[49m\u001b[38;5;124;43m'\u001b[39;49m\u001b[38;5;124;43mpip install seaborn\u001b[39;49m\u001b[38;5;124;43m'\u001b[39;49m\u001b[43m)\u001b[49m\n",
            "File \u001b[0;32m/lib/python3.11/site-packages/IPython/core/interactiveshell.py:2653\u001b[0m, in \u001b[0;36mInteractiveShell.system_piped\u001b[0;34m(self, cmd)\u001b[0m\n\u001b[1;32m   2648\u001b[0m     \u001b[38;5;28;01mraise\u001b[39;00m \u001b[38;5;167;01mOSError\u001b[39;00m(\u001b[38;5;124m\"\u001b[39m\u001b[38;5;124mBackground processes not supported.\u001b[39m\u001b[38;5;124m\"\u001b[39m)\n\u001b[1;32m   2650\u001b[0m \u001b[38;5;66;03m# we explicitly do NOT return the subprocess status code, because\u001b[39;00m\n\u001b[1;32m   2651\u001b[0m \u001b[38;5;66;03m# a non-None value would trigger :func:`sys.displayhook` calls.\u001b[39;00m\n\u001b[1;32m   2652\u001b[0m \u001b[38;5;66;03m# Instead, we store the exit_code in user_ns.\u001b[39;00m\n\u001b[0;32m-> 2653\u001b[0m \u001b[38;5;28mself\u001b[39m\u001b[38;5;241m.\u001b[39muser_ns[\u001b[38;5;124m'\u001b[39m\u001b[38;5;124m_exit_code\u001b[39m\u001b[38;5;124m'\u001b[39m] \u001b[38;5;241m=\u001b[39m \u001b[43msystem\u001b[49m\u001b[43m(\u001b[49m\u001b[38;5;28;43mself\u001b[39;49m\u001b[38;5;241;43m.\u001b[39;49m\u001b[43mvar_expand\u001b[49m\u001b[43m(\u001b[49m\u001b[43mcmd\u001b[49m\u001b[43m,\u001b[49m\u001b[43m \u001b[49m\u001b[43mdepth\u001b[49m\u001b[38;5;241;43m=\u001b[39;49m\u001b[38;5;241;43m1\u001b[39;49m\u001b[43m)\u001b[49m\u001b[43m)\u001b[49m\n",
            "File \u001b[0;32m/lib/python3.11/site-packages/IPython/utils/_process_emscripten.py:10\u001b[0m, in \u001b[0;36msystem\u001b[0;34m(cmd)\u001b[0m\n\u001b[1;32m      9\u001b[0m \u001b[38;5;28;01mdef\u001b[39;00m \u001b[38;5;21msystem\u001b[39m(cmd):\n\u001b[0;32m---> 10\u001b[0m     \u001b[38;5;28;01mraise\u001b[39;00m \u001b[38;5;167;01mOSError\u001b[39;00m(\u001b[38;5;124m\"\u001b[39m\u001b[38;5;124mNot available\u001b[39m\u001b[38;5;124m\"\u001b[39m)\n",
            "\u001b[0;31mOSError\u001b[0m: Not available"
          ],
          "output_type": "error"
        }
      ],
      "execution_count": 3
    },
    {
      "cell_type": "code",
      "source": "import seaborn as sns",
      "metadata": {
        "trusted": true
      },
      "outputs": [
        {
          "ename": "<class 'ModuleNotFoundError'>",
          "evalue": "No module named 'seaborn'",
          "traceback": [
            "\u001b[0;31m---------------------------------------------------------------------------\u001b[0m",
            "\u001b[0;31mModuleNotFoundError\u001b[0m                       Traceback (most recent call last)",
            "Cell \u001b[0;32mIn[4], line 1\u001b[0m\n\u001b[0;32m----> 1\u001b[0m \u001b[38;5;28;01mimport\u001b[39;00m \u001b[38;5;21;01mseaborn\u001b[39;00m \u001b[38;5;28;01mas\u001b[39;00m \u001b[38;5;21;01msns\u001b[39;00m\n",
            "\u001b[0;31mModuleNotFoundError\u001b[0m: No module named 'seaborn'"
          ],
          "output_type": "error"
        }
      ],
      "execution_count": 4
    },
    {
      "cell_type": "code",
      "source": "import pandas as pd\nimport numpy as np",
      "metadata": {
        "trusted": true
      },
      "outputs": [],
      "execution_count": 5
    },
    {
      "cell_type": "markdown",
      "source": "Load the dataset into a dataframe.\n",
      "metadata": {}
    },
    {
      "cell_type": "markdown",
      "source": "<h2>Read Data</h2>\n<p>\nWe utilize the <code>pandas.read_csv()</code> function for reading CSV files. However, in this version of the lab, which operates on JupyterLite, the dataset needs to be downloaded to the interface using the provided code below.\n</p>\n",
      "metadata": {}
    },
    {
      "cell_type": "markdown",
      "source": "The functions below will download the dataset into your browser:\n",
      "metadata": {}
    },
    {
      "cell_type": "code",
      "source": "from pyodide.http import pyfetch\n\nasync def download(url, filename):\n    response = await pyfetch(url)\n    if response.status == 200:\n        with open(filename, \"wb\") as f:\n            f.write(await response.bytes())",
      "metadata": {
        "trusted": true
      },
      "outputs": [],
      "execution_count": 6
    },
    {
      "cell_type": "code",
      "source": "file_path = \"https://cf-courses-data.s3.us.cloud-object-storage.appdomain.cloud/IBM-DA0321EN-SkillsNetwork/LargeData/m2_survey_data.csv\"",
      "metadata": {
        "trusted": true
      },
      "outputs": [],
      "execution_count": 7
    },
    {
      "cell_type": "markdown",
      "source": "To obtain the dataset, utilize the download() function as defined above:  \n",
      "metadata": {}
    },
    {
      "cell_type": "code",
      "source": "await download(file_path, \"m2_survey_data.csv\")\nfile_name=\"m2_survey_data.csv\"",
      "metadata": {
        "trusted": true
      },
      "outputs": [],
      "execution_count": 8
    },
    {
      "cell_type": "markdown",
      "source": "Utilize the Pandas method read_csv() to load the data into a dataframe.\n",
      "metadata": {}
    },
    {
      "cell_type": "code",
      "source": "df = pd.read_csv(file_name)",
      "metadata": {
        "trusted": true
      },
      "outputs": [],
      "execution_count": 9
    },
    {
      "cell_type": "code",
      "source": "df.head(3)",
      "metadata": {
        "trusted": true
      },
      "outputs": [
        {
          "execution_count": 10,
          "output_type": "execute_result",
          "data": {
            "text/plain": "   Respondent                      MainBranch Hobbyist  \\\n0           4  I am a developer by profession       No   \n1           9  I am a developer by profession      Yes   \n2          13  I am a developer by profession      Yes   \n\n                                         OpenSourcer  \\\n0                                              Never   \n1                         Once a month or more often   \n2  Less than once a month but more than once per ...   \n\n                                          OpenSource          Employment  \\\n0  The quality of OSS and closed source software ...  Employed full-time   \n1  The quality of OSS and closed source software ...  Employed full-time   \n2  OSS is, on average, of HIGHER quality than pro...  Employed full-time   \n\n         Country Student                                            EdLevel  \\\n0  United States      No           Bachelor’s degree (BA, BS, B.Eng., etc.)   \n1    New Zealand      No  Some college/university study without earning ...   \n2  United States      No        Master’s degree (MA, MS, M.Eng., MBA, etc.)   \n\n                                      UndergradMajor  ...  \\\n0  Computer science, computer engineering, or sof...  ...   \n1  Computer science, computer engineering, or sof...  ...   \n2  Computer science, computer engineering, or sof...  ...   \n\n                              WelcomeChange  \\\n0   Just as welcome now as I felt last year   \n1   Just as welcome now as I felt last year   \n2  Somewhat more welcome now than last year   \n\n                                        SONewContent   Age Gender Trans  \\\n0  Tech articles written by other developers;Indu...  22.0    Man    No   \n1                                                NaN  23.0    Man    No   \n2  Tech articles written by other developers;Cour...  28.0    Man    No   \n\n                 Sexuality                     Ethnicity Dependents  \\\n0  Straight / Heterosexual  White or of European descent         No   \n1                 Bisexual  White or of European descent         No   \n2  Straight / Heterosexual  White or of European descent        Yes   \n\n            SurveyLength                  SurveyEase  \n0  Appropriate in length                        Easy  \n1  Appropriate in length  Neither easy nor difficult  \n2  Appropriate in length                        Easy  \n\n[3 rows x 85 columns]",
            "text/html": "<div>\n<style scoped>\n    .dataframe tbody tr th:only-of-type {\n        vertical-align: middle;\n    }\n\n    .dataframe tbody tr th {\n        vertical-align: top;\n    }\n\n    .dataframe thead th {\n        text-align: right;\n    }\n</style>\n<table border=\"1\" class=\"dataframe\">\n  <thead>\n    <tr style=\"text-align: right;\">\n      <th></th>\n      <th>Respondent</th>\n      <th>MainBranch</th>\n      <th>Hobbyist</th>\n      <th>OpenSourcer</th>\n      <th>OpenSource</th>\n      <th>Employment</th>\n      <th>Country</th>\n      <th>Student</th>\n      <th>EdLevel</th>\n      <th>UndergradMajor</th>\n      <th>...</th>\n      <th>WelcomeChange</th>\n      <th>SONewContent</th>\n      <th>Age</th>\n      <th>Gender</th>\n      <th>Trans</th>\n      <th>Sexuality</th>\n      <th>Ethnicity</th>\n      <th>Dependents</th>\n      <th>SurveyLength</th>\n      <th>SurveyEase</th>\n    </tr>\n  </thead>\n  <tbody>\n    <tr>\n      <th>0</th>\n      <td>4</td>\n      <td>I am a developer by profession</td>\n      <td>No</td>\n      <td>Never</td>\n      <td>The quality of OSS and closed source software ...</td>\n      <td>Employed full-time</td>\n      <td>United States</td>\n      <td>No</td>\n      <td>Bachelor’s degree (BA, BS, B.Eng., etc.)</td>\n      <td>Computer science, computer engineering, or sof...</td>\n      <td>...</td>\n      <td>Just as welcome now as I felt last year</td>\n      <td>Tech articles written by other developers;Indu...</td>\n      <td>22.0</td>\n      <td>Man</td>\n      <td>No</td>\n      <td>Straight / Heterosexual</td>\n      <td>White or of European descent</td>\n      <td>No</td>\n      <td>Appropriate in length</td>\n      <td>Easy</td>\n    </tr>\n    <tr>\n      <th>1</th>\n      <td>9</td>\n      <td>I am a developer by profession</td>\n      <td>Yes</td>\n      <td>Once a month or more often</td>\n      <td>The quality of OSS and closed source software ...</td>\n      <td>Employed full-time</td>\n      <td>New Zealand</td>\n      <td>No</td>\n      <td>Some college/university study without earning ...</td>\n      <td>Computer science, computer engineering, or sof...</td>\n      <td>...</td>\n      <td>Just as welcome now as I felt last year</td>\n      <td>NaN</td>\n      <td>23.0</td>\n      <td>Man</td>\n      <td>No</td>\n      <td>Bisexual</td>\n      <td>White or of European descent</td>\n      <td>No</td>\n      <td>Appropriate in length</td>\n      <td>Neither easy nor difficult</td>\n    </tr>\n    <tr>\n      <th>2</th>\n      <td>13</td>\n      <td>I am a developer by profession</td>\n      <td>Yes</td>\n      <td>Less than once a month but more than once per ...</td>\n      <td>OSS is, on average, of HIGHER quality than pro...</td>\n      <td>Employed full-time</td>\n      <td>United States</td>\n      <td>No</td>\n      <td>Master’s degree (MA, MS, M.Eng., MBA, etc.)</td>\n      <td>Computer science, computer engineering, or sof...</td>\n      <td>...</td>\n      <td>Somewhat more welcome now than last year</td>\n      <td>Tech articles written by other developers;Cour...</td>\n      <td>28.0</td>\n      <td>Man</td>\n      <td>No</td>\n      <td>Straight / Heterosexual</td>\n      <td>White or of European descent</td>\n      <td>Yes</td>\n      <td>Appropriate in length</td>\n      <td>Easy</td>\n    </tr>\n  </tbody>\n</table>\n<p>3 rows × 85 columns</p>\n</div>"
          },
          "metadata": {}
        }
      ],
      "execution_count": 10
    },
    {
      "cell_type": "markdown",
      "source": "> Note: This version of the lab is working on JupyterLite, which requires the dataset to be downloaded to the interface.While working on the downloaded version of this notebook on their local machines(Jupyter Anaconda), the learners can simply **skip the steps above,** and simply use the URL directly in the `pandas.read_csv()` function. You can uncomment and run the statements in the cell below.\n",
      "metadata": {}
    },
    {
      "cell_type": "code",
      "source": "#df = pd.read_csv(\"https://cf-courses-data.s3.us.cloud-object-storage.appdomain.cloud/IBM-DA0321EN-SkillsNetwork/LargeData/m2_survey_data.csv\")",
      "metadata": {
        "trusted": true
      },
      "outputs": [],
      "execution_count": 11
    },
    {
      "cell_type": "markdown",
      "source": "## Distribution\n",
      "metadata": {}
    },
    {
      "cell_type": "markdown",
      "source": "### Determine how the data is distributed\n",
      "metadata": {}
    },
    {
      "cell_type": "markdown",
      "source": "The column `ConvertedComp` contains Salary converted to annual USD salaries using the exchange rate on 2019-02-01.\n\nThis assumes 12 working months and 50 working weeks.\n",
      "metadata": {}
    },
    {
      "cell_type": "markdown",
      "source": "Plot the distribution curve for the column `ConvertedComp`.\n",
      "metadata": {}
    },
    {
      "cell_type": "code",
      "source": "# your code goes here\nsns.distplot(df['ConvertedComp'], 'ConvertedComp', hist = False, kde = True)\n\nplt.show()\n",
      "metadata": {
        "trusted": true
      },
      "outputs": [
        {
          "ename": "<class 'NameError'>",
          "evalue": "name 'sns' is not defined",
          "traceback": [
            "\u001b[0;31m---------------------------------------------------------------------------\u001b[0m",
            "\u001b[0;31mNameError\u001b[0m                                 Traceback (most recent call last)",
            "Cell \u001b[0;32mIn[12], line 2\u001b[0m\n\u001b[1;32m      1\u001b[0m \u001b[38;5;66;03m# your code goes here\u001b[39;00m\n\u001b[0;32m----> 2\u001b[0m \u001b[43msns\u001b[49m\u001b[38;5;241m.\u001b[39mdistplot(df[\u001b[38;5;124m'\u001b[39m\u001b[38;5;124mConvertedComp\u001b[39m\u001b[38;5;124m'\u001b[39m], \u001b[38;5;124m'\u001b[39m\u001b[38;5;124mConvertedComp\u001b[39m\u001b[38;5;124m'\u001b[39m, hist \u001b[38;5;241m=\u001b[39m \u001b[38;5;28;01mFalse\u001b[39;00m, kde \u001b[38;5;241m=\u001b[39m \u001b[38;5;28;01mTrue\u001b[39;00m)\n\u001b[1;32m      4\u001b[0m plt\u001b[38;5;241m.\u001b[39mshow()\n",
            "\u001b[0;31mNameError\u001b[0m: name 'sns' is not defined"
          ],
          "output_type": "error"
        }
      ],
      "execution_count": 12
    },
    {
      "cell_type": "markdown",
      "source": "Plot the histogram for the column `ConvertedComp`.\n",
      "metadata": {}
    },
    {
      "cell_type": "code",
      "source": "# your code goes here\nplt.hist(df['ConvertedComp'])\n",
      "metadata": {
        "trusted": true
      },
      "outputs": [
        {
          "execution_count": 13,
          "output_type": "execute_result",
          "data": {
            "text/plain": "(array([9659.,  238.,  115.,  125.,   99.,  131.,   34.,   15.,   15.,\n         151.]),\n array([      0.,  200000.,  400000.,  600000.,  800000., 1000000.,\n        1200000., 1400000., 1600000., 1800000., 2000000.]),\n <BarContainer object of 10 artists>)"
          },
          "metadata": {}
        },
        {
          "output_type": "display_data",
          "data": {
            "text/plain": "<Figure size 640x480 with 1 Axes>",
            "image/png": "[encoded data removed]"
          },
          "metadata": {}
        }
      ],
      "execution_count": 13
    },
    {
      "cell_type": "markdown",
      "source": "What is the median of the column `ConvertedComp`?\n",
      "metadata": {}
    },
    {
      "cell_type": "code",
      "source": "# your code goes here\ndf['ConvertedComp'].median()",
      "metadata": {
        "trusted": true
      },
      "outputs": [
        {
          "execution_count": 14,
          "output_type": "execute_result",
          "data": {
            "text/plain": "57745.0"
          },
          "metadata": {}
        }
      ],
      "execution_count": 14
    },
    {
      "cell_type": "code",
      "source": "# your code goes here\ndf['Age'].median()",
      "metadata": {
        "trusted": true
      },
      "outputs": [
        {
          "execution_count": 15,
          "output_type": "execute_result",
          "data": {
            "text/plain": "29.0"
          },
          "metadata": {}
        }
      ],
      "execution_count": 15
    },
    {
      "cell_type": "markdown",
      "source": "How many responders identified themselves only as a **Man**?\n",
      "metadata": {}
    },
    {
      "cell_type": "code",
      "source": "df['Respondent'].count()",
      "metadata": {
        "trusted": true
      },
      "outputs": [
        {
          "execution_count": 16,
          "output_type": "execute_result",
          "data": {
            "text/plain": "11398"
          },
          "metadata": {}
        }
      ],
      "execution_count": 16
    },
    {
      "cell_type": "code",
      "source": "df.shape",
      "metadata": {
        "trusted": true
      },
      "outputs": [
        {
          "execution_count": 17,
          "output_type": "execute_result",
          "data": {
            "text/plain": "(11398, 85)"
          },
          "metadata": {}
        }
      ],
      "execution_count": 17
    },
    {
      "cell_type": "code",
      "source": "# your code goes here\ndf.Gender.value_counts()",
      "metadata": {
        "trusted": true
      },
      "outputs": [
        {
          "execution_count": 18,
          "output_type": "execute_result",
          "data": {
            "text/plain": "Man                                                            10480\nWoman                                                            731\nNon-binary, genderqueer, or gender non-conforming                 63\nMan;Non-binary, genderqueer, or gender non-conforming             26\nWoman;Non-binary, genderqueer, or gender non-conforming           14\nWoman;Man                                                          9\nWoman;Man;Non-binary, genderqueer, or gender non-conforming        2\nName: Gender, dtype: int64"
          },
          "metadata": {}
        }
      ],
      "execution_count": 18
    },
    {
      "cell_type": "markdown",
      "source": "Find out the  median ConvertedComp of responders identified themselves only as a **Woman**?\n",
      "metadata": {}
    },
    {
      "cell_type": "code",
      "source": "# your code goes here\n\ndf_woman=df[df['Gender']=='Woman']\nprint(\"Woman Median:\", df_woman['ConvertedComp'].median())",
      "metadata": {
        "trusted": true
      },
      "outputs": [
        {
          "name": "stdout",
          "text": "Woman Median: 57708.0\n",
          "output_type": "stream"
        }
      ],
      "execution_count": 19
    },
    {
      "cell_type": "markdown",
      "source": "Give the five number summary for the column `Age`?\n",
      "metadata": {}
    },
    {
      "cell_type": "markdown",
      "source": "**Double click here for hint**.\n\n<!--\nmin,q1,median,q3,max of a column are its five number summary.\n-->\n",
      "metadata": {}
    },
    {
      "cell_type": "code",
      "source": "# your code goes here\ndf['Age'].describe()",
      "metadata": {
        "trusted": true
      },
      "outputs": [
        {
          "execution_count": 20,
          "output_type": "execute_result",
          "data": {
            "text/plain": "count    11111.000000\nmean        30.778895\nstd          7.393686\nmin         16.000000\n25%         25.000000\n50%         29.000000\n75%         35.000000\nmax         99.000000\nName: Age, dtype: float64"
          },
          "metadata": {}
        }
      ],
      "execution_count": 20
    },
    {
      "cell_type": "markdown",
      "source": "Plot a histogram of the column `Age`.\n",
      "metadata": {}
    },
    {
      "cell_type": "code",
      "source": "# your code goes here\n\nplt.hist(df['Age'])",
      "metadata": {
        "trusted": true
      },
      "outputs": [
        {
          "execution_count": 21,
          "output_type": "execute_result",
          "data": {
            "text/plain": "(array([2.094e+03, 5.337e+03, 2.557e+03, 8.420e+02, 2.250e+02, 4.900e+01,\n        6.000e+00, 0.000e+00, 0.000e+00, 1.000e+00]),\n array([16. , 24.3, 32.6, 40.9, 49.2, 57.5, 65.8, 74.1, 82.4, 90.7, 99. ]),\n <BarContainer object of 10 artists>)"
          },
          "metadata": {}
        },
        {
          "output_type": "display_data",
          "data": {
            "text/plain": "<Figure size 640x480 with 1 Axes>",
            "image/png": "[encoded data removed]"
          },
          "metadata": {}
        }
      ],
      "execution_count": 21
    },
    {
      "cell_type": "markdown",
      "source": "## Outliers\n",
      "metadata": {}
    },
    {
      "cell_type": "markdown",
      "source": "### Finding outliers\n",
      "metadata": {}
    },
    {
      "cell_type": "markdown",
      "source": "Find out if outliers exist in the column `ConvertedComp` using a box plot?\n",
      "metadata": {}
    },
    {
      "cell_type": "code",
      "source": "# your code goes here\n#df_outliers = pd.DataFrame(data = df['ConvertedComp'])\ndf_outliers = df['ConvertedComp']\ndf_outliers.plot(kind='box', figsize=(6,4))",
      "metadata": {
        "trusted": true
      },
      "outputs": [
        {
          "execution_count": 22,
          "output_type": "execute_result",
          "data": {
            "text/plain": "<AxesSubplot:>"
          },
          "metadata": {}
        },
        {
          "output_type": "display_data",
          "data": {
            "text/plain": "<Figure size 600x400 with 1 Axes>",
            "image/png": "[encoded data removed]"
          },
          "metadata": {}
        }
      ],
      "execution_count": 22
    },
    {
      "cell_type": "markdown",
      "source": "Find out the Inter Quartile Range for the column `ConvertedComp`.\n",
      "metadata": {}
    },
    {
      "cell_type": "code",
      "source": "# your code goes here\ndf['ConvertedComp'].dropna(axis=0,inplace=True) \n",
      "metadata": {
        "trusted": true
      },
      "outputs": [],
      "execution_count": 23
    },
    {
      "cell_type": "code",
      "source": "Q1, Q3 = df['ConvertedComp'].quantile(.25), df['ConvertedComp'].quantile(.75)\nIQR = Q3-Q1",
      "metadata": {
        "trusted": true
      },
      "outputs": [],
      "execution_count": 24
    },
    {
      "cell_type": "code",
      "source": "IQR",
      "metadata": {
        "trusted": true
      },
      "outputs": [
        {
          "execution_count": 25,
          "output_type": "execute_result",
          "data": {
            "text/plain": "73132.0"
          },
          "metadata": {}
        }
      ],
      "execution_count": 25
    },
    {
      "cell_type": "markdown",
      "source": "Find out the upper and lower bounds.\n",
      "metadata": {}
    },
    {
      "cell_type": "code",
      "source": "# your code goes here\n\nupper=Q3+(IQR*1.5)\nlower=Q1-(IQR*1.5)\n",
      "metadata": {
        "trusted": true
      },
      "outputs": [],
      "execution_count": 26
    },
    {
      "cell_type": "code",
      "source": "# your code goes here\nprint('Upper Bound:', upper)\nprint('Lower Bound:', lower)",
      "metadata": {
        "trusted": true
      },
      "outputs": [
        {
          "name": "stdout",
          "text": "Upper Bound: 209698.0\nLower Bound: -82830.0\n",
          "output_type": "stream"
        }
      ],
      "execution_count": 27
    },
    {
      "cell_type": "markdown",
      "source": "Identify how many outliers are there in the `ConvertedComp` column.\n",
      "metadata": {}
    },
    {
      "cell_type": "code",
      "source": "# your code goes here\n(df['ConvertedComp']<lower) | (df['ConvertedComp']>upper)\n",
      "metadata": {
        "trusted": true
      },
      "outputs": [
        {
          "execution_count": 28,
          "output_type": "execute_result",
          "data": {
            "text/plain": "0        False\n1        False\n2        False\n3         True\n4        False\n         ...  \n11393    False\n11394    False\n11395    False\n11396    False\n11397    False\nName: ConvertedComp, Length: 11398, dtype: bool"
          },
          "metadata": {}
        }
      ],
      "execution_count": 28
    },
    {
      "cell_type": "markdown",
      "source": "Create a new dataframe by removing the outliers from the `ConvertedComp` column.\n",
      "metadata": {}
    },
    {
      "cell_type": "code",
      "source": "# your code goes here\n\ndf2 = df['ConvertedComp'].clip(upper, lower)\ndf2.describe()\n",
      "metadata": {
        "trusted": true
      },
      "outputs": [
        {
          "execution_count": 29,
          "output_type": "execute_result",
          "data": {
            "text/plain": "count     10582.000000\nmean      72327.661406\nstd       58619.926538\nmin           0.000000\n25%       26868.000000\n50%       57745.000000\n75%      100000.000000\nmax      209698.000000\nName: ConvertedComp, dtype: float64"
          },
          "metadata": {}
        }
      ],
      "execution_count": 29
    },
    {
      "cell_type": "code",
      "source": "# your code goes here\nprint('Outliers below:',df['ConvertedComp'].lt(Q1 - 1.5*IQR).sum())\nprint('Outliers above:',df['ConvertedComp'].gt(Q3 + 1.5*IQR).sum())\nprint('Outliers below:',df['ConvertedComp'].lt(Q1 - 1.5*IQR).sum())\nprint('Median with outliers:',df['ConvertedComp'].median())\nprint('Median with outliers removed:',df[df['ConvertedComp'].le(Q3 + 1.5*IQR)]['ConvertedComp'].median())\nprint('Mean with outliers removed:',df[df['ConvertedComp'].le(Q3 + 1.5*IQR)]['ConvertedComp'].mean())",
      "metadata": {
        "trusted": true
      },
      "outputs": [
        {
          "name": "stdout",
          "text": "Outliers below: 0\nOutliers above: 879\nOutliers below: 0\nMedian with outliers: 57745.0\nMedian with outliers removed: 52704.0\nMean with outliers removed: 59883.20838915799\n",
          "output_type": "stream"
        }
      ],
      "execution_count": 33
    },
    {
      "cell_type": "markdown",
      "source": "## Correlation\n",
      "metadata": {}
    },
    {
      "cell_type": "markdown",
      "source": "### Finding correlation\n",
      "metadata": {}
    },
    {
      "cell_type": "markdown",
      "source": "Find the correlation between `Age` and all other numerical columns.\n",
      "metadata": {}
    },
    {
      "cell_type": "code",
      "source": "# your code goes here\n\ndf.corr()",
      "metadata": {
        "trusted": true
      },
      "outputs": [
        {
          "name": "stderr",
          "text": "<ipython-input-136-902db3e86091>:3: FutureWarning: The default value of numeric_only in DataFrame.corr is deprecated. In a future version, it will default to False. Select only valid columns or specify the value of numeric_only to silence this warning.\n  df.corr()\n",
          "output_type": "stream"
        },
        {
          "execution_count": 136,
          "output_type": "execute_result",
          "data": {
            "text/plain": "               Respondent  CompTotal  ConvertedComp  WorkWeekHrs  CodeRevHrs  \\\nRespondent       1.000000  -0.013490       0.002181    -0.015314    0.004621   \nCompTotal       -0.013490   1.000000       0.001037     0.003510    0.007063   \nConvertedComp    0.002181   0.001037       1.000000     0.021143   -0.033865   \nWorkWeekHrs     -0.015314   0.003510       0.021143     1.000000    0.026517   \nCodeRevHrs       0.004621   0.007063      -0.033865     0.026517    1.000000   \nAge              0.004041   0.006970       0.105386     0.036518   -0.020469   \n\n                    Age  \nRespondent     0.004041  \nCompTotal      0.006970  \nConvertedComp  0.105386  \nWorkWeekHrs    0.036518  \nCodeRevHrs    -0.020469  \nAge            1.000000  ",
            "text/html": "<div>\n<style scoped>\n    .dataframe tbody tr th:only-of-type {\n        vertical-align: middle;\n    }\n\n    .dataframe tbody tr th {\n        vertical-align: top;\n    }\n\n    .dataframe thead th {\n        text-align: right;\n    }\n</style>\n<table border=\"1\" class=\"dataframe\">\n  <thead>\n    <tr style=\"text-align: right;\">\n      <th></th>\n      <th>Respondent</th>\n      <th>CompTotal</th>\n      <th>ConvertedComp</th>\n      <th>WorkWeekHrs</th>\n      <th>CodeRevHrs</th>\n      <th>Age</th>\n    </tr>\n  </thead>\n  <tbody>\n    <tr>\n      <th>Respondent</th>\n      <td>1.000000</td>\n      <td>-0.013490</td>\n      <td>0.002181</td>\n      <td>-0.015314</td>\n      <td>0.004621</td>\n      <td>0.004041</td>\n    </tr>\n    <tr>\n      <th>CompTotal</th>\n      <td>-0.013490</td>\n      <td>1.000000</td>\n      <td>0.001037</td>\n      <td>0.003510</td>\n      <td>0.007063</td>\n      <td>0.006970</td>\n    </tr>\n    <tr>\n      <th>ConvertedComp</th>\n      <td>0.002181</td>\n      <td>0.001037</td>\n      <td>1.000000</td>\n      <td>0.021143</td>\n      <td>-0.033865</td>\n      <td>0.105386</td>\n    </tr>\n    <tr>\n      <th>WorkWeekHrs</th>\n      <td>-0.015314</td>\n      <td>0.003510</td>\n      <td>0.021143</td>\n      <td>1.000000</td>\n      <td>0.026517</td>\n      <td>0.036518</td>\n    </tr>\n    <tr>\n      <th>CodeRevHrs</th>\n      <td>0.004621</td>\n      <td>0.007063</td>\n      <td>-0.033865</td>\n      <td>0.026517</td>\n      <td>1.000000</td>\n      <td>-0.020469</td>\n    </tr>\n    <tr>\n      <th>Age</th>\n      <td>0.004041</td>\n      <td>0.006970</td>\n      <td>0.105386</td>\n      <td>0.036518</td>\n      <td>-0.020469</td>\n      <td>1.000000</td>\n    </tr>\n  </tbody>\n</table>\n</div>"
          },
          "metadata": {}
        }
      ],
      "execution_count": 136
    },
    {
      "cell_type": "markdown",
      "source": "## Authors\n",
      "metadata": {}
    },
    {
      "cell_type": "markdown",
      "source": "Ramesh Sannareddy\n",
      "metadata": {}
    },
    {
      "cell_type": "markdown",
      "source": "### Other Contributors\n",
      "metadata": {}
    },
    {
      "cell_type": "markdown",
      "source": "Rav Ahuja\n",
      "metadata": {}
    },
    {
      "cell_type": "markdown",
      "source": "## Change Log\n",
      "metadata": {}
    },
    {
      "cell_type": "markdown",
      "source": "| Date (YYYY-MM-DD) | Version | Changed By        | Change Description                 |\n| ----------------- | ------- | ----------------- | ---------------------------------- |\n| 2020-10-17        | 0.1     | Ramesh Sannareddy | Created initial version of the lab |\n",
      "metadata": {}
    },
    {
      "cell_type": "markdown",
      "source": " Copyright © 2020 IBM Corporation. This notebook and its source code are released under the terms of the [MIT License](https://cognitiveclass.ai/mit-license?cm_mmc=Email_Newsletter-_-Developer_Ed%2BTech-_-WW_WW-_-SkillsNetwork-Courses-IBM-DA0321EN-SkillsNetwork-21426264&cm_mmca1=000026UJ&cm_mmca2=10006555&cm_mmca3=M12345678&cvosrc=email.Newsletter.M12345678&cvo_campaign=000026UJ&cm_mmc=Email_Newsletter-_-Developer_Ed%2BTech-_-WW_WW-_-SkillsNetwork-Courses-IBM-DA0321EN-SkillsNetwork-21426264&cm_mmca1=000026UJ&cm_mmca2=10006555&cm_mmca3=M12345678&cvosrc=email.Newsletter.M12345678&cvo_campaign=000026UJ&cm_mmc=Email_Newsletter-_-Developer_Ed%2BTech-_-WW_WW-_-SkillsNetwork-Courses-IBM-DA0321EN-SkillsNetwork-21426264&cm_mmca1=000026UJ&cm_mmca2=10006555&cm_mmca3=M12345678&cvosrc=email.Newsletter.M12345678&cvo_campaign=000026UJ&cm_mmc=Email_Newsletter-_-Developer_Ed%2BTech-_-WW_WW-_-SkillsNetwork-Courses-IBM-DA0321EN-SkillsNetwork-21426264&cm_mmca1=000026UJ&cm_mmca2=10006555&cm_mmca3=M12345678&cvosrc=email.Newsletter.M12345678&cvo_campaign=000026UJ).\n",
      "metadata": {}
    }
  ]
}